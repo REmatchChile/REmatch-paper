{
 "cells": [
  {
   "cell_type": "code",
   "execution_count": 2,
   "metadata": {},
   "outputs": [],
   "source": [
    "import os\n",
    "import os.path as path\n",
    "from pprint import pprint\n",
    "import re\n",
    "import json\n",
    "\n",
    "HERE = path.dirname(path.abspath(\"__file___\"))\n",
    "PROJECT_DIR = path.abspath(path.join(HERE, \"../..\"))\n",
    "\n",
    "DATASETS = {\n",
    "    \"dna\": {\n",
    "        \"exp-path\": path.join(PROJECT_DIR, \"exp/crossings/dna/1var\"),\n",
    "        \"exp-path-2\": path.join(PROJECT_DIR, \"exp/crossings/dna/2vars\"),\n",
    "        \"exp-path-3\": path.join(PROJECT_DIR, \"exp/crossings/dna/lookahead\"),\n",
    "        \"2-variable-metaregexes\": [\n",
    "            {\n",
    "                \"rematch\": R\"!x{>NP[^\\n]+}\\n[A-Z\\n]*!y{&.{0,20}&}[A-Z\\n]*\\n>\",\n",
    "                \"re2\": R\"(>NP[^\\n]+)\\n[A-Z\\n]*(&.{0,20}&)[A-Z\\n]*\\n\",\n",
    "            }\n",
    "        ],\n",
    "        \"lookahead-metaregex\": [\n",
    "            {\"rematch\": R\"!x{&.{0,20}&}\", \"pcre\": R\"(?=(&.{0,20}&)).\", \"re2\": R\"(&.{0,20}&)\"}\n",
    "        ],\n",
    "    },\n",
    "    \"morphemes\": {\n",
    "        \"exp-path\": path.join(PROJECT_DIR, \"exp/crossings/morphemes/2grams\"),\n",
    "        \"exp-path-2\": path.join(PROJECT_DIR, \"exp/crossings/morphemes/2vars\"),\n",
    "        \"exp-path-3\": path.join(PROJECT_DIR, \"exp/crossings/morphemes/lookahead\"),\n",
    "        \"splitting-regex\": R\"^\\\\W!x\\{(.*?)\\\\W(.*?)\\}\\\\W$\",\n",
    "        \"2-variable-metaregexes\": [\n",
    "            {\n",
    "                \"rematch\": R\"(\\n\\n|\\.\\s*)!x{[A-Z][^.]* !y{& &}( [^.]*)?\\.}\",\n",
    "                \"re2\": R\"(?:\\n\\n|\\.\\s*)([A-Z][^.]* (& &)(?: [^.]*)?\\.)\",\n",
    "            }\n",
    "        ],\n",
    "        \"lookahead-metaregex\": [{\"rematch\": R\"\\W!x{&\\W&}\\W\",\"pcre\": R\".(?=\\W(&\\W&)\\W)\", \"re2\": R\"\\W(&\\W&)\\W\"}],\n",
    "    },\n",
    "    \"sparql\": {\n",
    "        \"exp-path\": path.join(PROJECT_DIR, \"exp/crossings/sparql/1-var/2lines\"),\n",
    "        \"exp-path-3\": path.join(PROJECT_DIR, \"exp/crossings/sparql/1-var/lookahead\"),\n",
    "        \"splitting-regex\": R\"^!x\\{\\\\n(.*\\[\\^\\\\n\\]\\*)\\\\n(\\[\\^\\\\n\\]\\*.*)\\\\n\\}$\",\n",
    "        \"lookahead-metaregex\": [{\"rematch\": R\"\\n!x{&\\n&}\\n\",\"pcre\": R\"(?=(\\n&\\n&))\\n\", \"re2\": R\"\\n(&\\n&)\\n\"}],\n",
    "    },\n",
    "}\n",
    "\n",
    "\n",
    "def get_subdirs(parent_dir: str):\n",
    "    for f in os.scandir(parent_dir):\n",
    "        if f.is_dir():\n",
    "            yield f.path"
   ]
  },
  {
   "cell_type": "code",
   "execution_count": 3,
   "metadata": {},
   "outputs": [],
   "source": [
    "dataset = 'morphemes'\n",
    "with open(path.join(DATASETS[dataset]['exp-path'], 'cross_product.json')) as fp:\n",
    "  cross_product = json.loads(fp.read())\n",
    "\n",
    "for k in cross_product:\n",
    "  path1 = path.join(DATASETS[dataset]['exp-path-3'], f'sample/k{k}')\n",
    "  for i, (pattern1, pattern2) in enumerate(cross_product[k]):\n",
    "    path2 = path.join(path1, f'exp{i:03}')\n",
    "    os.makedirs(path2, exist_ok=True)\n",
    "    for mregex in DATASETS[dataset]['lookahead-metaregex']:\n",
    "      for libtype in mregex:\n",
    "        res = re.sub('&', lambda x: pattern1, mregex[libtype], count=1)\n",
    "        res = re.sub('&', lambda x: pattern2, res, count=1)\n",
    "        with open(path.join(path2, f\"{libtype}.rgx\"), 'w') as fp:\n",
    "          fp.write(res)\n",
    "\n",
    "      if not path.exists(path.join(path2, f\"perl.rgx\")):\n",
    "        os.symlink(path.join(path2, f\"pcre.rgx\"), path.join(path2, f\"perl.rgx\"))\n",
    "      if not path.exists(path.join(path2, f\"boost.rgx\")):\n",
    "        os.symlink(path.join(path2, f\"pcre.rgx\"), path.join(path2, f\"boost.rgx\"))\n"
   ]
  }
 ],
 "metadata": {
  "kernelspec": {
   "display_name": "venv",
   "language": "python",
   "name": "python3"
  },
  "language_info": {
   "codemirror_mode": {
    "name": "ipython",
    "version": 3
   },
   "file_extension": ".py",
   "mimetype": "text/x-python",
   "name": "python",
   "nbconvert_exporter": "python",
   "pygments_lexer": "ipython3",
   "version": "3.10.9"
  },
  "orig_nbformat": 4,
  "vscode": {
   "interpreter": {
    "hash": "2a3b36a6ae6f558b1146110461c070778efcb64aae0fc3e67132b706bdd95b27"
   }
  }
 },
 "nbformat": 4,
 "nbformat_minor": 2
}
