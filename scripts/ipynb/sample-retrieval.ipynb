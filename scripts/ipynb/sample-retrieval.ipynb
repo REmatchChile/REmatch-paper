{
 "cells": [
  {
   "cell_type": "code",
   "execution_count": 1,
   "metadata": {},
   "outputs": [],
   "source": [
    "import os\n",
    "import os.path as path\n",
    "from pprint import pprint\n",
    "import re\n",
    "import json\n",
    "import random\n",
    "from shutil import copytree\n",
    "\n",
    "HERE = path.dirname(path.abspath(\"__file___\"))\n",
    "PROJECT_DIR = path.abspath(path.join(HERE, \"../..\"))\n",
    "\n",
    "DATASETS = {\n",
    "    \"dna\": {\n",
    "        \"exp-path\": path.join(PROJECT_DIR, \"exp/crossings/dna/1var\"),\n",
    "        \"splitting-regex\": \"^!x\\{(.*)\\.\\{0,20\\}(.*)\\}$\",\n",
    "    },\n",
    "    \"dna_lookahead\": {\n",
    "        \"exp-path\": path.join(PROJECT_DIR, \"exp/crossings/dna/lookahead\"),\n",
    "    },\n",
    "    \"dna_2vars\": {\n",
    "        \"exp-path\": path.join(PROJECT_DIR, \"exp/crossings/dna/2vars\"),\n",
    "        \"splitting-regex\": \"^!x\\{(.*)\\.\\{0,20\\}(.*)\\}$\",\n",
    "    },\n",
    "    \"morphemes\": {\n",
    "        \"exp-path\": path.join(PROJECT_DIR, \"exp/crossings/morphemes/2grams\"),\n",
    "        \"splitting-regex\": R\"^\\\\W!x\\{(.*?)\\\\W(.*?)\\}\\\\W$\",\n",
    "    },\n",
    "    \"morphemes_lookahead\": {\n",
    "        \"exp-path\": path.join(PROJECT_DIR, \"exp/crossings/morphemes/lookahead\"),\n",
    "    },\n",
    "    \"morphemes_2vars\": {\n",
    "        \"exp-path\": path.join(PROJECT_DIR, \"exp/crossings/morphemes/2vars\"),\n",
    "        \"splitting-regex\": \"^!x\\{(.*)\\.\\{0,20\\}(.*)\\}$\",\n",
    "    },\n",
    "    \"sparql\": {\n",
    "        \"exp-path\": path.join(PROJECT_DIR, \"exp/crossings/sparql/1-var/2lines\"),\n",
    "        \"splitting-regex\": R\"^!x\\{\\\\n(.*\\[\\^\\\\n\\]\\*)\\\\n(\\[\\^\\\\n\\]\\*.*)\\\\n\\}$\"\n",
    "    },\n",
    "    \"sparql_lookahead\": {\n",
    "        \"exp-path\": path.join(PROJECT_DIR, \"exp/crossings/sparql/1-var/lookahead\"),\n",
    "    }\n",
    "}\n",
    "\n",
    "\n",
    "def get_subdirs(parent_dir: str):\n",
    "    return [f.path for f in os.scandir(parent_dir) if f.is_dir()]"
   ]
  },
  {
   "cell_type": "code",
   "execution_count": 2,
   "metadata": {},
   "outputs": [],
   "source": [
    "\n",
    "def get_doubles(dataset: str):\n",
    "  doubles_dict = dict()\n",
    "  for d1 in get_subdirs(path.join(DATASETS[dataset]['exp-path'], 'sample')):\n",
    "    k = int(re.match('^k(\\d+)$', path.basename(d1)).group(1))\n",
    "    doubles_dict[k] = []\n",
    "    print(f\"On k={k}\")\n",
    "    for d2 in get_subdirs(d1):\n",
    "      with open(path.join(d2, 'rematch.rgx')) as rgxf:\n",
    "        rematch_exp = rgxf.read()\n",
    "        # print(rematch_exp, DATASETS[dataset]['splitting-regex'])\n",
    "        m = re.match(DATASETS[dataset]['splitting-regex'], rematch_exp)\n",
    "        # print(m.group(1), m.group(2), sep=\" (...) \")\n",
    "        doubles_dict[k].append((m.group(1), m.group(2)))\n",
    "\n",
    "  \n",
    "  return dict(sorted(doubles_dict.items()))\n",
    "\n",
    "def save_doubles(dataset: str): \n",
    "  with open(path.join(DATASETS[dataset]['exp-path'], 'cross_product.json'), 'w') as jsonfile:\n",
    "    jsonfile.write(json.dumps(get_doubles(dataset), indent = 4))\n",
    "  \n",
    "def retrieve_small_sample(dataset: str, sample_size: int = 30):\n",
    "  sample_dir = path.join(DATASETS[dataset]['exp-path'], 'sample')\n",
    "  small_sample_dir = path.join(DATASETS[dataset]['exp-path'], 'small-sample')\n",
    "\n",
    "  os.makedirs(small_sample_dir, exist_ok = True)\n",
    "\n",
    "  exps_per_size_sample = sample_size // len(get_subdirs(sample_dir))\n",
    "\n",
    "  for i, d1 in enumerate(get_subdirs(sample_dir)):\n",
    "    subdirs2 = get_subdirs(d1)\n",
    "    random.shuffle(subdirs2)\n",
    "    for j in range(exps_per_size_sample):\n",
    "      chosen_dir = subdirs2[j]\n",
    "      dest_dir = path.join(small_sample_dir, f\"exp{i*exps_per_size_sample+j:03}\")\n",
    "      copytree(chosen_dir, dest_dir, dirs_exist_ok=True)\n",
    "      \n"
   ]
  },
  {
   "cell_type": "code",
   "execution_count": 4,
   "metadata": {},
   "outputs": [],
   "source": [
    "# retrieve_small_sample(\"sparql\")\n",
    "# save_doubles(\"sparql\")\n",
    "retrieve_small_sample(\"sparql_lookahead\")"
   ]
  },
  {
   "cell_type": "code",
   "execution_count": null,
   "metadata": {},
   "outputs": [],
   "source": []
  }
 ],
 "metadata": {
  "kernelspec": {
   "display_name": "Python 3",
   "language": "python",
   "name": "python3"
  },
  "language_info": {
   "codemirror_mode": {
    "name": "ipython",
    "version": 3
   },
   "file_extension": ".py",
   "mimetype": "text/x-python",
   "name": "python",
   "nbconvert_exporter": "python",
   "pygments_lexer": "ipython3",
   "version": "3.10.9"
  },
  "orig_nbformat": 4,
  "vscode": {
   "interpreter": {
    "hash": "b0fa6594d8f4cbf19f97940f81e996739fb7646882a419484c72d19e05852a7e"
   }
  }
 },
 "nbformat": 4,
 "nbformat_minor": 2
}
